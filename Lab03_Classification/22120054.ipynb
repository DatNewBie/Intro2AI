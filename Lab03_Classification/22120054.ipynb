{
 "cells": [
  {
   "cell_type": "markdown",
   "metadata": {},
   "source": [
    "# Lab: Phân lớp\n",
    "\n",
    "- MSSV: 22120054\n",
    "- Họ và tên: Lê Văn Thành Đạt"
   ]
  },
  {
   "cell_type": "markdown",
   "metadata": {},
   "source": [
    "## Yêu cầu bài tập\n",
    "\n",
    "**Cách làm bài**\n",
    "\n",
    "\n",
    "Bạn sẽ làm trực tiếp trên file notebook này; trong file, từ `TODO` để cho biết những phần mà bạn cần phải làm.\n",
    "\n",
    "Bạn có thể thảo luận ý tưởng cũng như tham khảo các tài liệu, nhưng *code và bài làm phải là của bạn*. \n",
    "\n",
    "Nếu vi phạm thì sẽ bị 0 điểm cho bài tập này.\n",
    "\n",
    "**Cách nộp bài**\n",
    "\n",
    "Trước khi nộp bài, rerun lại notebook (`Kernel` -> `Restart & Run All`).\n",
    "\n",
    "Sau đó, đặt tên notebook bằng `MSSV` của bạn (vd, nếu bạn có MSSV là 1234567 thì bạn đặt tên notebook là `1234567.ipynb`) và nộp ở link trên moodle.\n",
    "\n",
    "**Nội dung bài tập**\n",
    "\n",
    "Trong bài này, bạn sẽ cài đặt 2 thuật toán phân lớp: \n",
    "1. Cây quyết định (Decision tree)\n",
    "2. Gaussian Naive Bayes\n",
    "\n",
    "**Một số lưu ý**\n",
    "1. Chỉ cần phát hiện có dấu hiện có sau chép code sẽ 0 điểm cả lab và có thể dẫn đến không điểm môn học\n",
    "2. Sai format nộp bài sẽ bị trừ 20% số điểm\n",
    "3. Trễ deadline 1 ngày sẽ bị trừ 40% số điểm. Sau 24h kể từ hạn nộp sẽ không nhận bất kì bài nộp bổ sung nào.\n",
    "4. Các thắc mắc về bài tập, các bạn vui lòng liên hệ giáo viên qua email `ntthuhang0131@gmail.com` với tiêu đề `[Cơ sở trí tuệ nhân tạo - CQ2022/22 - Thắc mắc lab 03]`"
   ]
  },
  {
   "cell_type": "markdown",
   "metadata": {},
   "source": [
    "### Thêm thư viện cần thiết"
   ]
  },
  {
   "cell_type": "code",
   "execution_count": 1,
   "metadata": {},
   "outputs": [],
   "source": [
    "import matplotlib.pyplot as plt\n",
    "from sklearn import datasets\n",
    "import pandas as pd\n",
    "import numpy as np\n",
    "from sklearn.metrics import accuracy_score"
   ]
  },
  {
   "cell_type": "markdown",
   "metadata": {},
   "source": [
    "### Load dữ liệu Iris"
   ]
  },
  {
   "cell_type": "code",
   "execution_count": 2,
   "metadata": {},
   "outputs": [],
   "source": [
    "from sklearn.model_selection import train_test_split\n",
    "iris=datasets.load_iris()\n",
    "\n",
    "X=iris.data\n",
    "y=iris.target\n",
    "\n",
    "#split dataset into training data and testing data\n",
    "X_train,X_test,y_train,y_test=train_test_split(X,y,test_size=0.33, random_state=42)"
   ]
  },
  {
   "cell_type": "markdown",
   "metadata": {},
   "source": [
    "## 1. Cây quyết định (Decision Tree)"
   ]
  },
  {
   "cell_type": "markdown",
   "metadata": {},
   "source": [
    "## 1.1 Iterative Dichotomiser 3 (ID3) (2 đ)"
   ]
  },
  {
   "cell_type": "markdown",
   "metadata": {},
   "source": [
    "### 1.1.1 Information Gain"
   ]
  },
  {
   "cell_type": "markdown",
   "metadata": {},
   "source": [
    "Thông tin kỳ vọng (entropy):"
   ]
  },
  {
   "cell_type": "markdown",
   "metadata": {},
   "source": [
    "$$Entropy=-\\sum_{i}^{n}p_ilog_{2}(p_i)$$"
   ]
  },
  {
   "cell_type": "markdown",
   "metadata": {},
   "source": [
    "Hàm entropy đạt giá trị nhỏ nhất nếu có một giá trị $p_i=1$, đạt giá trị lớn nhất nếu tất cả các $p_i$ bằng nhau. Những tính chất này của hàm entropy khiến nó được sử dụng trong việc đo độ hỗn loạn của một phép phân chia của ID3."
   ]
  },
  {
   "cell_type": "code",
   "execution_count": 3,
   "metadata": {},
   "outputs": [],
   "source": [
    "import math\n",
    "\n",
    "\n",
    "def entropy(counts, n_samples):\n",
    "    \"\"\"\n",
    "    Parameters:\n",
    "    -----------\n",
    "    counts: shape (n_classes): list number of samples in each class\n",
    "    n_samples: number of data samples\n",
    "    \n",
    "    -----------\n",
    "    return entropy \n",
    "    \"\"\"\n",
    "    #TODO\n",
    "    res = 0\n",
    "    for i in range(len(counts)):\n",
    "        if(counts[i] != 0):\n",
    "            res -= counts[i]/n_samples * math.log2(counts[i]/n_samples)\n",
    "    \n",
    "    return res"
   ]
  },
  {
   "cell_type": "code",
   "execution_count": 4,
   "metadata": {},
   "outputs": [],
   "source": [
    "def entropy_of_one_division(division): \n",
    "    \"\"\"\n",
    "    Returns entropy of a divided group of data\n",
    "    Data may have multiple classes\n",
    "    \"\"\"\n",
    "    n_samples = len(division)\n",
    "    n_classes = set(division)\n",
    "    \n",
    "    counts=[]\n",
    "    #count samples in each class then store it to list counts\n",
    "    #TODO:\n",
    "    for classes in n_classes:\n",
    "        count = 0\n",
    "        for sample in division:\n",
    "            if sample == classes:\n",
    "                count += 1\n",
    "        counts.append(count)\n",
    "    \n",
    "    return entropy(counts,n_samples),n_samples\n",
    "\n",
    "\n",
    "def get_entropy(y_predict, y):\n",
    "    \"\"\"\n",
    "    Returns entropy of a split\n",
    "    y_predict is the split decision by cutoff, True/Fasle\n",
    "    \"\"\"\n",
    "    n = len(y)\n",
    "    s_true, n_true = entropy_of_one_division(y[y_predict]) # left hand side entropy\n",
    "    s_false, n_false = entropy_of_one_division(y[~y_predict]) # right hand side entropy\n",
    "    s = n_true/n * s_true + n_false/n * s_false # overall entropy\n",
    "    return s"
   ]
  },
  {
   "cell_type": "markdown",
   "metadata": {},
   "source": [
    "Độ lợi thông tin phân lớp tập D theo thuộc tính A:\n",
    "$$ Gain(A)=Entrophy(D)-Entrophy_{A}(D)$$\n",
    "\n",
    "Trong ID3, tại mỗi node, thuộc tính được chọn được xác định dựa trên là thuộc tính khiến cho information gain đạt giá trị lớn nhất.\n",
    "\n",
    "Các thuộc tính của tập Iris đều có giá trị liên tục. Do đó ta cần rời rạc hóa cho từng thuộc tính. Cách đơn giản là sử dụng một ngưỡng `cutoff` chia giá trị của dữ liệu trên mỗi thuộc tính sẽ làm 2 phần: `value<cutoff` và `value>=cutoff`.\n",
    "\n",
    "Để tìm ngưỡng `cutoff` tốt nhất cho mỗi thuộc tính ta lần lượt thay `cutoff` bằng các giá trị của thuộc tính sau đó tính entropy, `cutoff` tốt nhất khi entropy bé nhất.  "
   ]
  },
  {
   "cell_type": "markdown",
   "metadata": {},
   "source": [
    "### 1.1.2 Decision tree"
   ]
  },
  {
   "cell_type": "code",
   "execution_count": 5,
   "metadata": {},
   "outputs": [],
   "source": [
    "class DecisionTreeClassifier:\n",
    "    def __init__(self, tree=None, depth=0):\n",
    "        '''Parameters:\n",
    "        -----------------\n",
    "        tree: decision tree\n",
    "        depth: depth of decision tree after training'''\n",
    "        \n",
    "        self.depth = depth\n",
    "        self.tree=tree\n",
    "    def fit(self, X, y, node={}, depth=0):\n",
    "        '''Parameter:\n",
    "        -----------------\n",
    "        X: training data\n",
    "        y: label of training data\n",
    "        ------------------\n",
    "        return: node \n",
    "        \n",
    "        node: each node represented by cutoff value and column index, value and children.\n",
    "         - cutoff value is thresold where you divide your attribute\n",
    "         - column index is your data attribute index\n",
    "         - value of node is mean value of label indexes, \n",
    "           if a node is leaf all data samples will have same label\n",
    "        \n",
    "        Note that: we divide each attribute into 2 part => each node will have 2 children: left, right.\n",
    "        '''\n",
    "        \n",
    "        #Stop conditions\n",
    "        if len(y) == 0:\n",
    "            return {'val':None}\n",
    "\n",
    "        #if all value of y are the same \n",
    "        if np.all(y==y[0]):\n",
    "            return {'val':y[0]}\n",
    "\n",
    "        else: \n",
    "            col_idx, cutoff, entropy = self.find_best_split_of_all(X, y)    # find one split given an information gain \n",
    "            y_left = y[X[:, col_idx] < cutoff]\n",
    "            y_right = y[X[:, col_idx] >= cutoff]\n",
    "            node = {'index_col':col_idx,\n",
    "                        'cutoff':cutoff,\n",
    "                   'val':np.mean(y)}\n",
    "            node['left'] = self.fit(X[X[:, col_idx] < cutoff], y_left, {}, depth+1)\n",
    "            node['right'] = self.fit(X[X[:, col_idx] >= cutoff], y_right, {}, depth+1)\n",
    "            self.depth += 1 \n",
    "            self.tree = node\n",
    "            return node\n",
    "    \n",
    "    def find_best_split_of_all(self, X, y):\n",
    "        col_idx = None\n",
    "        min_entropy = 1\n",
    "        cutoff = None\n",
    "        for i, col_data in enumerate(X.T):\n",
    "            entropy, cur_cutoff = self.find_best_split(col_data, y)\n",
    "            if entropy == 0:                   #best entropy\n",
    "                return i, cur_cutoff, entropy\n",
    "            elif entropy <= min_entropy:\n",
    "                min_entropy = entropy\n",
    "                col_idx = i\n",
    "                cutoff = cur_cutoff\n",
    "               \n",
    "        return col_idx, cutoff, min_entropy\n",
    "    \n",
    "    def find_best_split(self, col_data, y):\n",
    "        ''' Parameters:\n",
    "        -------------\n",
    "        col_data: data samples in column'''\n",
    "         \n",
    "        min_entropy = 10\n",
    "        cutoff = None\n",
    "\n",
    "        #Loop through col_data find cutoff where entropy is minimum\n",
    "        #TODO\n",
    "        for i in range(len(col_data) - 1):\n",
    "            c = (col_data[i] + col_data[i+1])/2\n",
    "\n",
    "            left = y[col_data < c]\n",
    "            right = y[col_data > c]\n",
    "\n",
    "            if len(left) == 0 or len(right) == 0:\n",
    "                continue\n",
    "\n",
    "            leftEntropy, _ = entropy_of_one_division(left)\n",
    "            rightEntropy, _ = entropy_of_one_division(right)\n",
    "\n",
    "            entropy = (len(left)/len(y))*leftEntropy + (len(right)/len(y))*rightEntropy\n",
    "\n",
    "            if entropy < min_entropy:\n",
    "                min_entropy = entropy\n",
    "                cutoff = c\n",
    "\n",
    "      \n",
    "        return min_entropy, cutoff\n",
    "                                               \n",
    "    def predict(self, X):\n",
    "        tree = self.tree\n",
    "        pred = np.zeros(shape=len(X))\n",
    "        for i, c in enumerate(X):\n",
    "            pred[i] = self._predict(c)\n",
    "        return pred\n",
    "    \n",
    "    def _predict(self, row):\n",
    "        cur_layer = self.tree\n",
    "        while cur_layer.get('cutoff'):\n",
    "            if row[cur_layer['index_col']] < cur_layer['cutoff']:\n",
    "                cur_layer = cur_layer['left']\n",
    "            else:\n",
    "                cur_layer = cur_layer['right']\n",
    "        else:\n",
    "            return cur_layer.get('val')"
   ]
  },
  {
   "cell_type": "markdown",
   "metadata": {},
   "source": [
    "### 1.1.3 Classification on Iris Dataset"
   ]
  },
  {
   "cell_type": "code",
   "execution_count": 6,
   "metadata": {},
   "outputs": [
    {
     "name": "stdout",
     "output_type": "stream",
     "text": [
      "Accuracy of your decision tree model on training data: 1.0\n",
      "Accuracy of your decision tree model: 0.96\n"
     ]
    }
   ],
   "source": [
    "model = DecisionTreeClassifier()\n",
    "tree = model.fit(X_train, y_train)\n",
    "pred=model.predict(X_train)\n",
    "print('Accuracy of your decision tree model on training data:', accuracy_score(y_train,pred))\n",
    "pred=model.predict(X_test)\n",
    "print('Accuracy of your decision tree model:', accuracy_score(y_test,pred))\n"
   ]
  },
  {
   "cell_type": "markdown",
   "metadata": {},
   "source": [
    "## 1.2 CART (Classification and Regression Trees) (2 đ)"
   ]
  },
  {
   "cell_type": "markdown",
   "metadata": {},
   "source": [
    "Các bạn tự cài đặt lại thuật toán CART và test trên tập dữ liệu Iris (tham khảo cách trình bày ở `phần 1.1`)"
   ]
  },
  {
   "cell_type": "markdown",
   "metadata": {},
   "source": [
    "### 1.2.1 Gini Index"
   ]
  },
  {
   "cell_type": "markdown",
   "metadata": {},
   "source": [
    "Độ đo bất thuần nhất Gini:"
   ]
  },
  {
   "cell_type": "markdown",
   "metadata": {},
   "source": [
    "$$Gini=1-\\sum_{i}^{C}p_i^2$$"
   ]
  },
  {
   "cell_type": "code",
   "execution_count": 7,
   "metadata": {},
   "outputs": [],
   "source": [
    "import math\n",
    "\n",
    "\n",
    "def gini(counts, n_samples):\n",
    "    \"\"\"\n",
    "    Parameters:\n",
    "    -----------\n",
    "    counts: shape (n_classes): list number of samples in each class\n",
    "    n_samples: number of data samples\n",
    "    \n",
    "    -----------\n",
    "    return entropy \n",
    "    \"\"\"\n",
    "    #TODO\n",
    "    res = 0\n",
    "    for i in range(len(counts)):\n",
    "        if(counts[i] != 0):\n",
    "            res -= (counts[i]/n_samples)*(counts[i]/n_samples)\n",
    "    \n",
    "    return 1 + res"
   ]
  },
  {
   "cell_type": "code",
   "execution_count": 8,
   "metadata": {},
   "outputs": [],
   "source": [
    "def gini_of_one_division(division): \n",
    "    \"\"\"\n",
    "    Returns entropy of a divided group of data\n",
    "    Data may have multiple classes\n",
    "    \"\"\"\n",
    "    n_samples = len(division)\n",
    "    n_classes = set(division)\n",
    "    \n",
    "    counts=[]\n",
    "    #count samples in each class then store it to list counts\n",
    "    #TODO:\n",
    "    for classes in n_classes:\n",
    "        count = 0\n",
    "        for sample in division:\n",
    "            if sample == classes:\n",
    "                count += 1\n",
    "        counts.append(count)\n",
    "    \n",
    "    return gini(counts,n_samples),n_samples\n",
    "\n",
    "\n",
    "def get_gini(y_predict, y):\n",
    "    \"\"\"\n",
    "    Returns entropy of a split\n",
    "    y_predict is the split decision by cutoff, True/Fasle\n",
    "    \"\"\"\n",
    "    n = len(y)\n",
    "    s_true, n_true = gini_of_one_division(y[y_predict]) # left hand side entropy\n",
    "    s_false, n_false = gini_of_one_division(y[~y_predict]) # right hand side entropy\n",
    "    s = n_true/n * s_true + n_false/n * s_false # overall entropy\n",
    "    return s"
   ]
  },
  {
   "cell_type": "markdown",
   "metadata": {},
   "source": [
    "Gini Index khi chia dữ liệu S theo thuộc tính A:\n",
    "$$ G(S, A) = \\sum_{v \\in Values(A)} \\frac{|S_v|}{|S|}G(S_v)$$\n",
    "\n",
    "Trong CART, tại mỗi node, thuộc tính được chọn được xác định dựa trên là thuộc tính khiến cho gini index thấp nhất.\n",
    "\n",
    "Các thuộc tính của tập Iris đều có giá trị liên tục. Do đó ta cần rời rạc hóa cho từng thuộc tính. Cách đơn giản là sử dụng một ngưỡng `cutoff` chia giá trị của dữ liệu trên mỗi thuộc tính sẽ làm 2 phần: `value<cutoff` và `value>=cutoff`.\n",
    "\n",
    "Để tìm ngưỡng `cutoff` tốt nhất cho mỗi thuộc tính ta lần lượt thay `cutoff` bằng các giá trị của thuộc tính sau đó tính entropy, `cutoff` tốt nhất khi entropy bé nhất.  "
   ]
  },
  {
   "cell_type": "markdown",
   "metadata": {},
   "source": [
    "### 1.2.2 Decision tree"
   ]
  },
  {
   "cell_type": "code",
   "execution_count": 9,
   "metadata": {},
   "outputs": [],
   "source": [
    "class DecisionTreeClassifier:\n",
    "    def __init__(self, tree=None, depth=0):\n",
    "        '''Parameters:\n",
    "        -----------------\n",
    "        tree: decision tree\n",
    "        depth: depth of decision tree after training'''\n",
    "        \n",
    "        self.depth = depth\n",
    "        self.tree=tree\n",
    "    def fit(self, X, y, node={}, depth=0):\n",
    "        '''Parameter:\n",
    "        -----------------\n",
    "        X: training data\n",
    "        y: label of training data\n",
    "        ------------------\n",
    "        return: node \n",
    "        \n",
    "        node: each node represented by cutoff value and column index, value and children.\n",
    "         - cutoff value is thresold where you divide your attribute\n",
    "         - column index is your data attribute index\n",
    "         - value of node is mean value of label indexes, \n",
    "           if a node is leaf all data samples will have same label\n",
    "        \n",
    "        Note that: we divide each attribute into 2 part => each node will have 2 children: left, right.\n",
    "        '''\n",
    "        \n",
    "        #Stop conditions\n",
    "        if len(y) == 0:\n",
    "            return {'val':None}\n",
    "\n",
    "        #if all value of y are the same \n",
    "        if np.all(y==y[0]):\n",
    "            return {'val':y[0]}\n",
    "\n",
    "        else: \n",
    "            col_idx, cutoff, entropy = self.find_best_split_of_all(X, y)    # find one split given an information gain \n",
    "            y_left = y[X[:, col_idx] < cutoff]\n",
    "            y_right = y[X[:, col_idx] >= cutoff]\n",
    "            node = {'index_col':col_idx,\n",
    "                        'cutoff':cutoff,\n",
    "                   'val':np.mean(y)}\n",
    "            node['left'] = self.fit(X[X[:, col_idx] < cutoff], y_left, {}, depth+1)\n",
    "            node['right'] = self.fit(X[X[:, col_idx] >= cutoff], y_right, {}, depth+1)\n",
    "            self.depth += 1 \n",
    "            self.tree = node\n",
    "            return node\n",
    "    \n",
    "    def find_best_split_of_all(self, X, y):\n",
    "        col_idx = None\n",
    "        min_entropy = 1\n",
    "        cutoff = None\n",
    "        for i, col_data in enumerate(X.T):\n",
    "            entropy, cur_cutoff = self.find_best_split(col_data, y)\n",
    "            if entropy == 0:                   #best entropy\n",
    "                return i, cur_cutoff, entropy\n",
    "            elif entropy <= min_entropy:\n",
    "                min_entropy = entropy\n",
    "                col_idx = i\n",
    "                cutoff = cur_cutoff\n",
    "               \n",
    "        return col_idx, cutoff, min_entropy\n",
    "    \n",
    "    def find_best_split(self, col_data, y):\n",
    "        ''' Parameters:\n",
    "        -------------\n",
    "        col_data: data samples in column'''\n",
    "        \n",
    "        min_entropy = 10\n",
    "        cutoff = None\n",
    "\n",
    "        #Loop through col_data find cutoff where entropy is minimum\n",
    "        #TODO\n",
    "        for i in range(len(col_data) - 1):\n",
    "            c = (col_data[i] + col_data[i+1])/2\n",
    "\n",
    "            left = y[col_data < c]\n",
    "            right = y[col_data > c]\n",
    "\n",
    "            if len(left) == 0 or len(right) == 0:\n",
    "                continue\n",
    "\n",
    "            leftEntropy, _ = gini_of_one_division(left)\n",
    "            rightEntropy, _ = gini_of_one_division(right)\n",
    "\n",
    "            entropy = (len(left)/len(y))*leftEntropy + (len(right)/len(y))*rightEntropy\n",
    "\n",
    "            if entropy < min_entropy:\n",
    "                min_entropy = entropy\n",
    "                cutoff = c\n",
    "\n",
    "      \n",
    "        return min_entropy, cutoff\n",
    "                                               \n",
    "    def predict(self, X):\n",
    "        tree = self.tree\n",
    "        pred = np.zeros(shape=len(X))\n",
    "        for i, c in enumerate(X):\n",
    "            pred[i] = self._predict(c)\n",
    "        return pred\n",
    "    \n",
    "    def _predict(self, row):\n",
    "        cur_layer = self.tree\n",
    "        while cur_layer.get('cutoff'):\n",
    "            if row[cur_layer['index_col']] < cur_layer['cutoff']:\n",
    "                cur_layer = cur_layer['left']\n",
    "            else:\n",
    "                cur_layer = cur_layer['right']\n",
    "        else:\n",
    "            return cur_layer.get('val')"
   ]
  },
  {
   "cell_type": "markdown",
   "metadata": {},
   "source": [
    "### 1.2.3 Classification on Iris Dataset"
   ]
  },
  {
   "cell_type": "code",
   "execution_count": 10,
   "metadata": {},
   "outputs": [
    {
     "name": "stdout",
     "output_type": "stream",
     "text": [
      "Accuracy of your decision tree model on training data: 1.0\n",
      "Accuracy of your decision tree model: 0.98\n"
     ]
    }
   ],
   "source": [
    "model = DecisionTreeClassifier()\n",
    "tree = model.fit(X_train, y_train)\n",
    "pred=model.predict(X_train)\n",
    "print('Accuracy of your decision tree model on training data:', accuracy_score(y_train,pred))\n",
    "pred=model.predict(X_test)\n",
    "print('Accuracy of your decision tree model:', accuracy_score(y_test,pred))\n"
   ]
  },
  {
   "cell_type": "markdown",
   "metadata": {},
   "source": [
    "## 1.3 Câu hỏi lý thuyết (2 đ)"
   ]
  },
  {
   "cell_type": "markdown",
   "metadata": {},
   "source": [
    "*Đây là câu hỏi về lý thuyết có thể giúp các bạn buổi sung kiến thức cho các buổi phỏng vấn. Các bạn có thể tham khảo bất kì nguồn nào trừ ChatGPT và có thể thêm hình ảnh minh họa để có câu trả lời rõ ràng và dễ hiểu nhất. Và khi đã tham khảo phải liệt kê tài liệu tham khảo? Trường hợp phát hiện đạo văn bài làm sẽ nhận 0 điểm ngay lập tức.*"
   ]
  },
  {
   "cell_type": "markdown",
   "metadata": {},
   "source": [
    "##### 1. So sánh Entropy, Gini Impurity và Variance Reduction trong Decision Tree. Khi nào nên sử dụng mỗi tiêu chí?\n",
    "\n",
    "Câu trả lời:\n",
    "`TODO`\n",
    "- Điểm giống nhau:\n",
    "    + Cả ba tiêu chí này đều được sử dụng trong decision tree để đánh giá và chọn ra thuộc tính tốt nhất để phân chia dữ liệu tại một nút trên cây.\n",
    "- Điểm khác nhau:\n",
    "    + Entropy và Gini Impurity được sử dụng trong bài toán phân loại, còn Variance Reduction được sử dụng trong bài toán hồi quy.\n",
    "    + Entroypy dùng để đo độ bất thuần nhất của dữ liệu trong tập dữ liệu, Gini Impurity đo xác suất phân loại sai 1 phần tử được chọn ngẫu nhiên trong tập hợp, còn Variance Reduction đo sự khác biệt giữa phương sai của nút cha và tổng trọng lượng của các phương sai của các nút con.\n",
    "    + Entropy nó nhạy cảm với sự phân bố của các lớp trong 1 tập hợp, Gini Impurity nhạy cảm với số lượng lớp, còn Variance Reduction thì nhạy cảm với các điểm ngoại lai.\n",
    "    + Về mặt tính toán thì Gini Impurity và Variance Reduction thường hiệu quả hơn so với Entropy, lí do là vì phần tính toán của Gini Impurity và Variance Reduction không liên quan đến logarit. Nhìn ảnh bên dưới ta có thể thấy được giá trị lớn nhất của Entropy có thể là 1 còn giá trị lớn nhất của Gini Impurity là 0.5\n",
    "    + <img src=\"https://media.geeksforgeeks.org/wp-content/uploads/20200620180439/Gini-Impurity-vs-Entropy.png\" style=\"display:block; margin:auto; width:300px;\" alt=\"Ảnh minh họa\">\n",
    "- Khi nào nên sử dụng mỗi tiêu chí:\n",
    "    + Với bài toán hồi quy, ta chọn Variance Reduction.\n",
    "    + Với bài toán phân loại:\n",
    "      + Chọn Entropy khi bài toán có nhiều lớp hoặc ta cần độ nhảy cảm cao hơn\n",
    "      + Chọn Gini Impurity khi ta muốn nhanh hơn trong việc tính toán "
   ]
  },
  {
   "cell_type": "markdown",
   "metadata": {},
   "source": [
    "##### 2. Overfitting trong Decision Tree là gì? Bạn có thể làm gì để giảm thiểu vấn đề này?\n",
    "Câu trả lời:\n",
    "`TODO`\n",
    "- Overfitting trong Decision Tree là việc một mô hình hoạt động kém hiệu quả và không đưa ra được dự đoán chính xác trên tập dữ liệu kiểm tra, điều này có lẽ bắt nguồn từ việc mô hình đó có thể đã học quá nhiều dữ liệu và học luôn cả những dữ liệu nhiễu hay dữ liệu không chính xác. \n",
    "- Để giảm thiểu vấn đề này, ta cần:\n",
    "    + Sàng lọc và tăng thêm những dữ liệu chất lượng để mô hình học, loại bỏ những dữ liệu gây nhiễu hoặc không chính xác.\n",
    "    + Cắt tỉa cây (Pruning): loại bỏ các phần không đóng góp đáng kể vào khả năng dự đoán của cây.\n",
    "    + Đặt các giới cho cây:\n",
    "      + Giới hạn độ sâu\n",
    "      + Giới hạn số mẫu tối thiểu trên mỗi lá\n",
    "    + Giảm độ phức tạp của mô hình bằng cách hạn chế số lượng thuộc tính được sử dụng tại mỗi nút bằng cách chọn ngẫu nhiên một tập con các thuộc tính mỗi lần chia.\n",
    "    + Áp dụng các mô hình như Random Forest và Gradient Boosting kết hợp nhiều cây quyết định để giảm overfitting"
   ]
  },
  {
   "cell_type": "markdown",
   "metadata": {},
   "source": [
    "##### 3. Decision Tree có phù hợp cho dữ liệu nhiều chiều hoặc dữ liệu không cân bằng không? Tại sao? \n",
    "Câu trả lời:\n",
    "`TODO`\n",
    "- Với dữ liệu nhiều chiều (thuộc tính) thì decision tree vẫn xử lí tốt do không cần phải chuẩn hóa dữ liệu trước giống như các thuật toán khác, tuy nhiên thì khi có quá nhiều chiều (thuộc tính) thì decision tree dễ xảy ra hiện tượng overfitting, điều này cũng gián tiếp làm hiệu suất xử lí của mô hình giảm đi.\n",
    "- Với dữ liệu không cần bằng thì khi đó decision tree sẽ ưu tiên các lớp chiếm đa số và dẫn đến tình trạng bỏ sót các lớp ít hơn, dẫn đến việc mô hình bị sai\n",
    "- Chúng ta có thể khắc phục những vấn đề trên bằng cách áp dụng các phương án như: giới hạn số lượng chiều (thuộc tính) hoặc chỉ chọn những thuộc tính chất lượng, áp dụng mô hình Random Forest để giảm tình trạng overfitting có thể xảy ra, đặt số lượng tối thiểu và tối đa cho các thuộc tính, ...\n",
    "##### Kết luận: Decision Tree không thật sự phù hợp cho dữ liệu nhiều chiều hoặc dữ liệu không cần bằng, nhưng nếu ta áp dụng các phương án khắc phục như trên thì Decision Tree vẫn có thể xử lí tốt được những trường hợp như vậy "
   ]
  },
  {
   "cell_type": "markdown",
   "metadata": {},
   "source": [
    "##### 4. Nếu bạn có một Decision Tree quá lớn (deep tree), bạn sẽ làm gì để cải thiện khả năng tổng quát của nó?\n",
    "Câu trả lời:\n",
    "`TODO`\n",
    "- Chúng ta có thể sử dụng các kỹ thuật sau để cải thiện khả năng tổng quát hóa của cây:\n",
    "    + Cắt tỉa cây (Pruning):\n",
    "      + Cắt tỉa trước(Pre-pruning): \n",
    "        + Giới hạn độ sâu tối đa(max_depth) \n",
    "        + giới hạn số mẫu tối thiểu trên mỗi lá\n",
    "        + giới hạn số lượng thuộc tính tại mỗi nút bằng cách chọn ngẫu nhiên một tập con các thuộc tính mỗi lần chia\n",
    "      + Cắt tỉa sau (Post-pruning): \n",
    "        + Cắt tỉa đi các cành không ảnh hưởng đáng kể đến độ chính xác tổng thể \n",
    "        + Cost-Complexity Pruning (CCP): Đưa ra 1 con số cụ thể về độ chính xác và độ phức tạp, loại bỏ các nhánh con ít đóng góp\n",
    "    + Áp dụng các mô hình như Random Forest và Gradient Boosting: kết hợp nhiều cây quyết định để giảm overfitting, tăng tính tổng quát cho mô hình"
   ]
  },
  {
   "cell_type": "markdown",
   "metadata": {},
   "source": [
    "## 2. Định lý Bayes (4 đ)\n",
    "\n",
    "Định lý Bayes được phát biểu dưới dạng toán học như sau:\n",
    "$$\\begin{equation}\n",
    "P\\left(A|B\\right)= \\dfrac{P\\left(B|A\\right)P\\left(A\\right)}{P\\left(B\\right)}\n",
    "\\end{equation}$$\n",
    "\n",
    "Nếu ta coi $B$ là dữ liệu $\\mathcal{D}$, các thông số cần ước tính $A$ là $w$, ta có:\n",
    "\n",
    "$$ \\begin{align}\n",
    "    \\underbrace{P(w|\\mathcal{D})}_{Posterior}= \\dfrac{1}{\\underbrace{P(\\mathcal{D})}_{Normalization}} \\overbrace{P(\\mathcal{D}|w)}^{\\text{Likelihood}} \\overbrace{P(w)}^{Prior}\n",
    "    \\end{align}\n",
    "$$"
   ]
  },
  {
   "cell_type": "markdown",
   "metadata": {},
   "source": [
    "#### Naive Bayes\n",
    "Để giúp cho việc tính toán được đơn giản, người ta thường giả sử một cách đơn giản nhất rằng các thành phần của biến ngẫu nhiên $D$ (hay các thuộc tính của dữ liệu $D$) là độc lập với nhau, nếu biết $w$. Tức là:\n",
    "$$P(\\mathcal{D}|w)=\\prod _{i=1}^{d}P(x_i|w)$$\n",
    "\n",
    "$d$: số lượng thuộc tính\n"
   ]
  },
  {
   "cell_type": "markdown",
   "metadata": {},
   "source": [
    "## 2.1 Probability Density Function"
   ]
  },
  {
   "cell_type": "code",
   "execution_count": 11,
   "metadata": {},
   "outputs": [],
   "source": [
    "class pdf:\n",
    "    def __init__(self,hist=None):\n",
    "        '''\n",
    "        A probability density function represented by a histogram\n",
    "        \n",
    "        hist: shape (n,1), n: number of hypotheses\n",
    "        hypo: hypothesis (simply understand as label)\n",
    "        hist[hypo]=P(hypo)\n",
    "        '''\n",
    "        self.hist = hist\n",
    "        \n",
    "    #virtual function\n",
    "    def likelihood(self, data, hypo):\n",
    "        '''Paramters:\n",
    "        data: new data record \n",
    "        hypo: hypothesis (simply understand as label)\n",
    "        ---------\n",
    "        return P(data/hypo)\n",
    "        ''' \n",
    "        \n",
    "        raise Exception()\n",
    "            \n",
    "    #update histogram for new data \n",
    "    def update(self, data):\n",
    "        ''' \n",
    "        P(hypo/data)=P(data/hypo)*P(hypo)*(1/P(data))\n",
    "        '''\n",
    "        \n",
    "        #Likelihood * Prior \n",
    "        #TODO\n",
    "        for hypo in self.hist.keys():\n",
    "            self.hist[hypo] *= self.likelihood(data, hypo)\n",
    "\n",
    "            \n",
    "        #Normalization\n",
    "        \n",
    "        #TODO: s=P(data)\n",
    "        #s=?\n",
    "        s = 0\n",
    "        for values in self.hist.values():\n",
    "            s += values \n",
    "        \n",
    "        \n",
    "        for hypo in self.hist.keys():\n",
    "            self.hist[hypo] = self.hist[hypo]/s\n",
    "        \n",
    "    def plot_pdf(self):\n",
    "        #plot Histogram\n",
    "        #TODO\n",
    "        plt.bar(self.hist.keys(), self.hist.values(), color='blue', alpha=0.7)\n",
    "        plt.xlabel('Hypotheses')\n",
    "        plt.ylabel('Probability')\n",
    "        plt.title('Probability Density Function')\n",
    "        plt.show()\n",
    "    \n",
    "    def maxHypo(self):\n",
    "        #find the hypothesis with maximum probability from hist\n",
    "        #TODO\n",
    "        return max(self.hist, key=self.hist.get)\n",
    "\n"
   ]
  },
  {
   "cell_type": "markdown",
   "metadata": {},
   "source": [
    "## 2.2 Classification on Iris Dataset"
   ]
  },
  {
   "cell_type": "markdown",
   "metadata": {},
   "source": [
    "#### Gaussian Naive Bayes"
   ]
  },
  {
   "cell_type": "markdown",
   "metadata": {},
   "source": [
    "- Naive Bayes có thể được mở rộng cho dữ liệu với các thuộc tính có giá trị là số thực, phổ biến nhất bằng cách sử dụng phân phối chuẩn (Gaussian distribution).\n",
    "\n",
    "- Phần mở rộng này được gọi là Gaussian Naive Bayes. Các hàm khác có thể được sử dụng để ước tính phân phối dữ liệu, nhưng Gaussian (hoặc phân phối chuẩn) là dễ nhất để làm việc vì chỉ cần ước tính giá trị trung bình và độ lệch chuẩn từ dữ liệu huấn luyện."
   ]
  },
  {
   "cell_type": "markdown",
   "metadata": {},
   "source": [
    "#### Định nghĩa hàm Gauss "
   ]
  },
  {
   "cell_type": "markdown",
   "metadata": {},
   "source": [
    "$$ f\\left(x;\\mu,\\sigma \\right)= \\dfrac{1}{\\sigma \\sqrt{2\\pi}} \n",
    "\\exp \\left({-\\dfrac{\\left(x-\\mu\\right)^2}{2 \\sigma^2}}\\right) $$"
   ]
  },
  {
   "cell_type": "code",
   "execution_count": 12,
   "metadata": {},
   "outputs": [],
   "source": [
    "def Gauss(std,mean,x):\n",
    "    #Calculate the Gaussian probability distribution function for x\n",
    "    #TODO \n",
    "    return (1/std*math.sqrt(2*math.pi))*math.exp(-((x-mean)**2)/(2*std**2))"
   ]
  },
  {
   "cell_type": "code",
   "execution_count": 13,
   "metadata": {},
   "outputs": [],
   "source": [
    "class NBGaussian(pdf):\n",
    "    def __init__(self, hist=None, std=None, mean=None):\n",
    "        '''Parameters:\n",
    "        \n",
    "        '''\n",
    "        pdf.__init__(self, hist)\n",
    "        self.std=std\n",
    "        self.mean=mean\n",
    "    def likelihood(self,data, hypo):\n",
    "        '''\n",
    "        Returns: P(data/hypo)\n",
    "        -----------------\n",
    "        Naive bayes:\n",
    "            Atributes are assumed to be conditionally independent given the class value.\n",
    "        '''\n",
    "    \n",
    "        std=self.std[hypo]\n",
    "        mean=self.mean[hypo]\n",
    "        res=1\n",
    "        #TODO\n",
    "        #res=res*P(xi/hypo)\n",
    "        for i in range(len(data)):\n",
    "            res*=Gauss(std[i], mean[i], data[i])\n",
    "            \n",
    "        return res \n",
    "    def fit(self, X,y):\n",
    "        \"\"\"Parameters:\n",
    "        X: training data\n",
    "        y: labels of training data\n",
    "        \"\"\"\n",
    "        n=len(X)\n",
    "        #number of iris species\n",
    "        #TODO\n",
    "        classes = list(set(y))\n",
    "        n_species = len(classes)\n",
    "        \n",
    "        hist={}\n",
    "        mean={}\n",
    "        std={}\n",
    "        \n",
    "        #separate dataset into rows by class\n",
    "        for hypo in range(0,n_species):\n",
    "            #TODO rows=?\n",
    "            rows = [X[i] for i in range(n) if y[i] == classes[hypo]]\n",
    "            \n",
    "            #histogram for each hypo\n",
    "            #TODO probability=?\n",
    "            hist[classes[hypo]] = len(rows)/n\n",
    "            \n",
    "            #Gaussian naive bayes each hypothesis represented by its mean and standard derivation\n",
    "            '''mean and standard derivation should be calculated for each column (or each attribute)'''\n",
    "            #TODO mean[hypo]=?, std[hypo]=?\n",
    "            mean[classes[hypo]] = []\n",
    "            std[classes[hypo]] = []\n",
    "            numColumn = len(rows[0])\n",
    "\n",
    "            for i in range(numColumn):\n",
    "                valueColumn = [row[i] for row in rows]\n",
    "                meanColumn = sum(valueColumn)/len(valueColumn)\n",
    "                mean[classes[hypo]].append(meanColumn)\n",
    "                \n",
    "                variance = sum((x - meanColumn) ** 2 for x in valueColumn) / len(valueColumn)\n",
    "                std[classes[hypo]].append(math.sqrt(variance))\n",
    "            \n",
    "         \n",
    "\n",
    "        self.mean=mean\n",
    "        self.std=std\n",
    "        self.hist=hist\n",
    "   \n",
    "    def _predict(self, data, plot=False):\n",
    "        \"\"\"\n",
    "        Predict label for only 1 data record\n",
    "        ------------\n",
    "        Parameters:\n",
    "        data: new data record\n",
    "        plot: True: draw histogram after update new record\n",
    "        -----------\n",
    "        return: label of data\n",
    "        \"\"\"\n",
    "        model=NBGaussian(hist=self.hist.copy(),std=self.std.copy(), mean=self.mean.copy())\n",
    "        model.update(data)\n",
    "        if (plot): model.plot_pdf()\n",
    "        return model.maxHypo()\n",
    "    \n",
    "    def predict(self, data):\n",
    "        \"\"\"Parameters:\n",
    "        Data: test data\n",
    "        ----------\n",
    "        return labels of test data\"\"\"\n",
    "        \n",
    "        pred=[]\n",
    "        for x in data:\n",
    "            pred.append(self._predict(x))\n",
    "        return pred"
   ]
  },
  {
   "cell_type": "markdown",
   "metadata": {},
   "source": [
    "#### Vẽ histogram of training data"
   ]
  },
  {
   "cell_type": "code",
   "execution_count": 14,
   "metadata": {},
   "outputs": [
    {
     "data": {
      "image/png": "[encoded data removed]",
      "text/plain": [
       "<Figure size 640x480 with 1 Axes>"
      ]
     },
     "metadata": {},
     "output_type": "display_data"
    }
   ],
   "source": [
    "model_1=NBGaussian()\n",
    "model_1.fit(X_train, y_train)\n",
    "model_1.plot_pdf()"
   ]
  },
  {
   "cell_type": "markdown",
   "metadata": {},
   "source": [
    "Nhận xét chart: `TODO`"
   ]
  },
  {
   "cell_type": "markdown",
   "metadata": {},
   "source": [
    "#### Test"
   ]
  },
  {
   "cell_type": "code",
   "execution_count": 15,
   "metadata": {},
   "outputs": [
    {
     "name": "stdout",
     "output_type": "stream",
     "text": [
      "Label of X_test[10]:  2\n",
      "Our histogram after update X_test[10]: \n"
     ]
    },
    {
     "data": {
      "image/png": "[encoded data removed]",
      "text/plain": [
       "<Figure size 640x480 with 1 Axes>"
      ]
     },
     "metadata": {},
     "output_type": "display_data"
    },
    {
     "data": {
      "text/plain": [
       "2"
      ]
     },
     "execution_count": 15,
     "metadata": {},
     "output_type": "execute_result"
    }
   ],
   "source": [
    "#label of y_test[10]\n",
    "print('Label of X_test[10]: ', y_test[10])\n",
    "#update model and show histogram with X_test[10]:\n",
    "\n",
    "print('Our histogram after update X_test[10]: ')\n",
    "model_1._predict(X_test[10],plot=True)\n"
   ]
  },
  {
   "cell_type": "markdown",
   "metadata": {},
   "source": [
    "#### Đánh giá hiệu suất mô hình Gaussian Naive Bayes"
   ]
  },
  {
   "cell_type": "code",
   "execution_count": 16,
   "metadata": {},
   "outputs": [
    {
     "name": "stdout",
     "output_type": "stream",
     "text": [
      "Accuracy of your Gaussian Naive Bayes model: 0.96\n"
     ]
    }
   ],
   "source": [
    "pred=model_1.predict(X_test)\n",
    "print('Accuracy of your Gaussian Naive Bayes model:', accuracy_score(y_test,pred))"
   ]
  },
  {
   "cell_type": "markdown",
   "metadata": {},
   "source": [
    "## 2.3 Một số câu hỏi lí thuyết"
   ]
  },
  {
   "cell_type": "markdown",
   "metadata": {},
   "source": [
    "*Đây là câu hỏi về lý thuyết có thể giúp các bạn buổi sung kiến thức cho các buổi phỏng vấn. Các bạn có thể tham khảo bất kì nguồn nào trừ ChatGPT và có thể thêm hình ảnh minh họa để có câu trả lời rõ ràng và dễ hiểu nhất. Và khi đã tham khảo phải liệt kê tài liệu tham khảo? Trường hợp phát hiện đạo văn bài làm sẽ nhận 0 điểm ngay lập tức.*"
   ]
  },
  {
   "cell_type": "markdown",
   "metadata": {},
   "source": [
    "##### 1. Trường hợp sử dụng Gaussian Naive Bayes? Nêu chí tiết và cho 3 ứng dụng cụ thể (nêu rõ: input là gì? output là gì? mục tiêu sử dụng?)?\n",
    "\n",
    "Câu trả lời:\n",
    "`TODO`\n",
    "- Trường hợp sử dụng Gaussian Naive Bayes là khi dữ liệu các thuộc tính đầu vào là liên tục và tuân theo phân phối chuẩn (Gaussian)\n",
    "- Ứng dụng của Gaussian Naive Bayes:\n",
    "    - Phân loại hoa với bộ dữ liệu Iris:\n",
    "        - Input: 4 thuộc tính là Sepal Length, Sepal Width, Petal Length, Petal Width\n",
    "        - Output: Setosa/ Versicolor/ Virginica\n",
    "        - Mục tiêu sử dụng: Đoán loại hoa dựa trên 4 thuộc tính đầu vào \n",
    "    - Phân loại email(spam/ non-spam):\n",
    "        - Input: 4 thuộc tính là tần suất suất hiện của từ khóa, độ dài email, tên miền người gửi, số link trong email \n",
    "        - Output: Spam/ non-spam\n",
    "        - Mục tiêu sử dụng: Phân loại email là spam hay non-spam\n",
    "    - Dự đoán có nên phê duyệt khoản vay cho khách hàng hay không:\n",
    "        - Input: 5 thuộc tính là tuổi, thu nhập, nợ hiện tại, số tiền vay, thời hạn trả\n",
    "        - Output: Cho/ không\n",
    "        - Mục tiêu sử dụng: phân loại khách hàng nên cho vay hay không"
   ]
  },
  {
   "cell_type": "markdown",
   "metadata": {},
   "source": [
    "##### 2. Có điều kiện bắt buộc nào của dữ liệu đầu vào khi sử dụng Gaussian Naive Bayes không?\n",
    "\n",
    "Câu trả lời:\n",
    "`TODO`\n",
    "- Điều kiện bắt buộc của dữ liệu đầu vào khi sử dụng Gaussian Naive Bayes: \n",
    "  - Dữ liệu đầu vào phải là dữ liệu số chứ không phải dữ liệu phân loại hay văn bản\n",
    "  - Dữ liệu của các thuộc tính đầu vào phải tuân theo phân phối chuẩn "
   ]
  },
  {
   "cell_type": "markdown",
   "metadata": {},
   "source": [
    "##### 3. Tại sao Naive Bayes thường được sử dụng trong các bài toán phân loại văn bản (Text Classification)?\n",
    "Câu trả lời : `TODO`\n",
    "- Naive Bayes thường được sử dụng trong các bài toán phân loại văn bản vì:\n",
    "  - Văn bản thường được biểu diễn thành tần suất xuất hiện của từ trong từ vựng, từ đó thì số đặc trưng sẽ là rất nhiều nhưng với Naive Bayes thì tính toán dựa trên xác suất nên không tốn nhiều tài nguyên\n",
    "  - Tốc độ xử lí của Naive Bayes rất nhanh vì các đặc trưng được giả định là độc lập, nâng cao hiệu suất trong các bài toán phân loại văn bản với dữ liệu lớn"
   ]
  },
  {
   "cell_type": "markdown",
   "metadata": {},
   "source": [
    "## Tài liệu tham khảo"
   ]
  },
  {
   "cell_type": "markdown",
   "metadata": {},
   "source": [
    "- https://www.geeksforgeeks.org/gaussian-naive-bayes/\n",
    "- https://www.geeksforgeeks.org/naive-bayes-classifiers/\n",
    "- https://www.cs.toronto.edu/~urtasun/courses/CSC411_Fall16/09_naive_bayes.pdf\n",
    "- https://codinginfinite.com/naive-bayes-classification-numerical-example/#htoc-application-of-naive-bayes-classification\n",
    "- https://www.geeksforgeeks.org/classification-of-text-documents-using-the-approach-of-naive-bayes/\n",
    "- https://www.geeksforgeeks.org/underfitting-and-overfitting-in-machine-learning/\n",
    "- https://www.geeksforgeeks.org/pruning-decision-trees/\n",
    "- https://www.geeksforgeeks.org/overfitting-in-decision-tree-models/\n",
    "- https://www.geeksforgeeks.org/bias-vs-variance-in-machine-learning/\n",
    "- https://www.geeksforgeeks.org/gini-impurity-and-entropy-in-decision-tree-ml/"
   ]
  }
 ],
 "metadata": {
  "kernelspec": {
   "display_name": "Python 3",
   "language": "python",
   "name": "python3"
  },
  "language_info": {
   "codemirror_mode": {
    "name": "ipython",
    "version": 3
   },
   "file_extension": ".py",
   "mimetype": "text/x-python",
   "name": "python",
   "nbconvert_exporter": "python",
   "pygments_lexer": "ipython3",
   "version": "3.12.1"
  }
 },
 "nbformat": 4,
 "nbformat_minor": 4
}
